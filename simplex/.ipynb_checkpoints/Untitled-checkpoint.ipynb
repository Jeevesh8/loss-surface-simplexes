{
 "cells": [
  {
   "cell_type": "code",
   "execution_count": 1,
   "metadata": {},
   "outputs": [],
   "source": [
    "import torch\n",
    "import math\n",
    "import numpy as np\n",
    "import gpytorch\n",
    "from torch.nn import Module\n",
    "import matplotlib.pyplot as plt"
   ]
  },
  {
   "cell_type": "markdown",
   "metadata": {},
   "source": [
    "## Test Sampler"
   ]
  },
  {
   "cell_type": "code",
   "execution_count": 2,
   "metadata": {},
   "outputs": [],
   "source": [
    "class ComplexModel():\n",
    "    def __init__(self, simplex_dict, vertices):\n",
    "        self.simplexes = simplex_dict\n",
    "        self.vertices = vertices\n",
    "        self.n_vert = vertices.shape[-1]"
   ]
  },
  {
   "cell_type": "code",
   "execution_count": 3,
   "metadata": {},
   "outputs": [],
   "source": [
    "def temp_volume(model, ind):\n",
    "    cdist = gpytorch.kernels.Kernel().covar_dist\n",
    "    n_vert = len(model.simplexes[ind])\n",
    "    total_vert = model.n_vert\n",
    "        \n",
    "    mat = torch.ones(n_vert+1, n_vert+1) - torch.eye(n_vert + 1)\n",
    "    \n",
    "    ## compute distance between parameters ##\n",
    "    n_par = model.vertices.shape[0]\n",
    "    par_vecs = torch.zeros(n_vert, n_par)\n",
    "    for ii, vv in enumerate(model.simplexes[ind]):\n",
    "        par_vecs[ii, :] = model.vertices[:, vv]\n",
    "        \n",
    "    dist_mat = cdist(par_vecs, par_vecs).pow(2)\n",
    "    mat[:n_vert, :n_vert] = dist_mat\n",
    "    \n",
    "    norm = (math.factorial(n_vert-1)**2) * (2. ** (n_vert-1))\n",
    "    return torch.abs(torch.det(mat)).div(norm).pow(0.5)"
   ]
  },
  {
   "cell_type": "code",
   "execution_count": 4,
   "metadata": {},
   "outputs": [],
   "source": [
    "class SimplicialComplex(Module):\n",
    "    def __init__(self, n_simplex):\n",
    "        super(SimplicialComplex, self).__init__()\n",
    "        self.n_simplex = n_simplex\n",
    "    \n",
    "    def forward(self, complex_model):\n",
    "        \n",
    "        ## first need to pick a simplex to sample from ##\n",
    "        vols = []\n",
    "        n_verts = []\n",
    "        for ii in range(self.n_simplex):\n",
    "            vols.append(temp_volume(complex_model, ii))\n",
    "            n_verts.append(len(complex_model.simplexes[ii]))\n",
    "\n",
    "        norm = sum(vols)\n",
    "        vol_cumsum = np.cumsum([vv/norm for vv in vols])\n",
    "        simp_ind = np.min(np.where(np.random.rand(1) < vol_cumsum)[0])\n",
    "        \n",
    "        ## sample weights for simplex\n",
    "        exps = [-(torch.rand(1)).log().item() for _ in range(n_verts[simp_ind])]\n",
    "        total = sum(exps)\n",
    "        exps = [exp/total for exp in exps]\n",
    "        \n",
    "        ## now assign vertex weights out\n",
    "        vert_weights = [0] * complex_model.n_vert\n",
    "        for ii, vert in enumerate(complex_model.simplexes[simp_ind]):\n",
    "            vert_weights[vert] = exps[ii]\n",
    "\n",
    "        return vert_weights"
   ]
  },
  {
   "cell_type": "code",
   "execution_count": 5,
   "metadata": {},
   "outputs": [],
   "source": [
    "simplexes = {0:[0, 1], 1:[0, 2, 3]}\n",
    "vertices = torch.tensor([[0, -1, 1, 0],[0, -1, 0, 2]])"
   ]
  },
  {
   "cell_type": "code",
   "execution_count": 6,
   "metadata": {},
   "outputs": [],
   "source": [
    "model = ComplexModel(simplexes, vertices)"
   ]
  },
  {
   "cell_type": "code",
   "execution_count": null,
   "metadata": {},
   "outputs": [],
   "source": [
    "sampler = SimplicialComplex(len(model.simplexes))"
   ]
  },
  {
   "cell_type": "code",
   "execution_count": null,
   "metadata": {},
   "outputs": [],
   "source": [
    "n_pts = 100\n",
    "pts = torch.zeros(2, 100)\n",
    "for ii in range(n_pts):\n",
    "    pts[:, ii] = vertices.float().matmul(torch.tensor(sampler(model)))"
   ]
  },
  {
   "cell_type": "code",
   "execution_count": null,
   "metadata": {},
   "outputs": [],
   "source": [
    "plt.scatter(vertices[0, :], vertices[1, :])\n",
    "plt.scatter(pts[0, :], pts[1, :], alpha=0.5)"
   ]
  },
  {
   "cell_type": "code",
   "execution_count": null,
   "metadata": {},
   "outputs": [],
   "source": [
    "simplexes = {0:[0, 1, 2]}\n",
    "vertices = torch.tensor([[0, 1, 0],[0, 0, 2]])"
   ]
  },
  {
   "cell_type": "code",
   "execution_count": null,
   "metadata": {},
   "outputs": [],
   "source": [
    "model = ComplexModel(simplexes, vertices)"
   ]
  },
  {
   "cell_type": "code",
   "execution_count": null,
   "metadata": {},
   "outputs": [],
   "source": [
    "sampler = SimplicialComplex(len(model.simplexes))"
   ]
  },
  {
   "cell_type": "code",
   "execution_count": null,
   "metadata": {},
   "outputs": [],
   "source": [
    "n_pts = 100\n",
    "pts = torch.zeros(2, 100)\n",
    "for ii in range(n_pts):\n",
    "    pts[:, ii] = vertices.float().matmul(torch.tensor(sampler(model)))"
   ]
  },
  {
   "cell_type": "code",
   "execution_count": null,
   "metadata": {},
   "outputs": [],
   "source": [
    "plt.scatter(vertices[0, :], vertices[1, :])\n",
    "plt.scatter(pts[0, :], pts[1, :], alpha=0.5)"
   ]
  },
  {
   "cell_type": "code",
   "execution_count": null,
   "metadata": {},
   "outputs": [],
   "source": [
    "for ii in [0, 1]:\n",
    "    simplexes[ii].append(4)"
   ]
  },
  {
   "cell_type": "code",
   "execution_count": null,
   "metadata": {},
   "outputs": [],
   "source": [
    "simplexes"
   ]
  },
  {
   "cell_type": "code",
   "execution_count": null,
   "metadata": {},
   "outputs": [],
   "source": [
    "len(simplexes)"
   ]
  },
  {
   "cell_type": "code",
   "execution_count": null,
   "metadata": {},
   "outputs": [],
   "source": []
  }
 ],
 "metadata": {
  "kernelspec": {
   "display_name": "Python 3",
   "language": "python",
   "name": "python3"
  },
  "language_info": {
   "codemirror_mode": {
    "name": "ipython",
    "version": 3
   },
   "file_extension": ".py",
   "mimetype": "text/x-python",
   "name": "python",
   "nbconvert_exporter": "python",
   "pygments_lexer": "ipython3",
   "version": "3.8.3"
  }
 },
 "nbformat": 4,
 "nbformat_minor": 4
}
